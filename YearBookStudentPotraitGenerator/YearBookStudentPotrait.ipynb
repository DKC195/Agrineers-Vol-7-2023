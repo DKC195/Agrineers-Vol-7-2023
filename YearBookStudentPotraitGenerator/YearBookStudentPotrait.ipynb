{
 "cells": [
  {
   "cell_type": "code",
   "execution_count": 1,
   "metadata": {},
   "outputs": [],
   "source": [
    "import pandas as pd\n",
    "import os\n",
    "from PIL import Image, ImageDraw, ImageFont, ImageOps\n",
    "from pdf2image import convert_from_path\n"
   ]
  },
  {
   "cell_type": "code",
   "execution_count": null,
   "metadata": {},
   "outputs": [],
   "source": [
    "db = pd.read_csv(\"/Users/dkc195/Desktop/AgrineerScript/AllStudent.csv\")\n",
    "db[db[\"Batch\"] == \"PUR075\"]"
   ]
  },
  {
   "cell_type": "code",
   "execution_count": null,
   "metadata": {},
   "outputs": [],
   "source": [
    "os.chdir(\"/Users/dkc195/Desktop/AgrineerScript/PUR075BAG\")\n",
    "PUR075 = sorted(os.listdir())\n",
    "os.chdir(\"/Users/dkc195/Desktop/AgrineerScript/PUR076BAG\")\n",
    "PUR076 = sorted(os.listdir())\n",
    "os.chdir(\"/Users/dkc195/Desktop/AgrineerScript/PUR077BAG\")\n",
    "PUR077 = sorted(os.listdir())"
   ]
  },
  {
   "cell_type": "code",
   "execution_count": null,
   "metadata": {},
   "outputs": [],
   "source": [
    "os.chdir(\"/Users/dkc195/Desktop/AgrineerScript\")\n",
    "Image075 = convert_from_path('BAG075.pdf')\n",
    "Image076 = convert_from_path('BAG076.pdf')\n",
    "Image077 = convert_from_path('BAG077.pdf')"
   ]
  },
  {
   "cell_type": "code",
   "execution_count": 5,
   "metadata": {},
   "outputs": [],
   "source": [
    "def create_image(size, bgColor, message, font, fontColor):\n",
    "    W, H = size\n",
    "    image = Image.new('RGB', size, bgColor)\n",
    "    draw = ImageDraw.Draw(image)\n",
    "    _, _, w, h = draw.textbbox((0, 0), message, font=font)\n",
    "    draw.text(((W-w)/2, (H-h)/2), message, font=font, fill=fontColor)\n",
    "    return image.convert(\"RGBA\")"
   ]
  },
  {
   "cell_type": "code",
   "execution_count": 6,
   "metadata": {},
   "outputs": [],
   "source": [
    "def generate(batch, imgpath, Images, db, Color, txtcolor):\n",
    "  YCo = 345\n",
    "  pic = 0\n",
    "  try:\n",
    "    for i in range(7):\n",
    "      XCo = 121\n",
    "      for j in range(7):\n",
    "        imgloc = imgpath + batch[pic]\n",
    "        Person = Image.open(imgloc).convert(\"RGBA\")\n",
    "        Person = ImageOps.exif_transpose(Person)\n",
    "        foreground = Person.resize((round(176), round(206)))\n",
    "        Images.paste(foreground, (XCo, YCo), foreground)\n",
    "        Nameplate = create_image((200, 25), Color, db[db[\"Campus RollNumber\"] == batch[pic].split(\".\")[0]][\"StudentName\"].item(), font, txtcolor)\n",
    "        Images.paste(Nameplate, (XCo - 11, YCo + 210), Nameplate)\n",
    "        XCo = XCo + 206\n",
    "        pic = pic+1\n",
    "      YCo = YCo + 276    \n",
    "  except IndexError:\n",
    "    print(\"Done\")\n",
    "\n",
    "  return Images"
   ]
  },
  {
   "cell_type": "code",
   "execution_count": null,
   "metadata": {},
   "outputs": [],
   "source": [
    "Images = Image075[0].convert(\"RGBA\").resize((round(1654), round(2340)))\n",
    "imgpath = \"/Users/dkc195/Desktop/AgrineerScript/PUR075BAG/\"\n",
    "\n",
    "Images = generate(PUR075, imgpath, Images, db, \"#30B5E2\", \"Black\")\n",
    "Images.save(\"Sample1.png\")"
   ]
  },
  {
   "cell_type": "code",
   "execution_count": null,
   "metadata": {},
   "outputs": [],
   "source": [
    "Images = Image076[0].convert(\"RGBA\").resize((round(1654), round(2340)))\n",
    "imgpath = \"/Users/dkc195/Desktop/AgrineerScript/PUR076BAG/\"\n",
    "\n",
    "Images = generate(PUR076, imgpath, Images, db, \"#19469B\", \"White\")\n",
    "Images.save(\"Sample2.png\")"
   ]
  },
  {
   "cell_type": "code",
   "execution_count": null,
   "metadata": {},
   "outputs": [],
   "source": [
    "Images = Image077[0].convert(\"RGBA\").resize((round(1654), round(2340)))\n",
    "imgpath = \"/Users/dkc195/Desktop/AgrineerScript/PUR077BAG/\"\n",
    "Images = generate(PUR077, imgpath, Images, db, \"#6A8737\", \"Black\")\n",
    "Images.save(\"Sample3.png\")"
   ]
  },
  {
   "cell_type": "code",
   "execution_count": null,
   "metadata": {},
   "outputs": [],
   "source": []
  }
 ],
 "metadata": {
  "kernelspec": {
   "display_name": "Python 3",
   "language": "python",
   "name": "python3"
  },
  "language_info": {
   "codemirror_mode": {
    "name": "ipython",
    "version": 3
   },
   "file_extension": ".py",
   "mimetype": "text/x-python",
   "name": "python",
   "nbconvert_exporter": "python",
   "pygments_lexer": "ipython3",
   "version": "3.9.6"
  },
  "orig_nbformat": 4
 },
 "nbformat": 4,
 "nbformat_minor": 2
}
